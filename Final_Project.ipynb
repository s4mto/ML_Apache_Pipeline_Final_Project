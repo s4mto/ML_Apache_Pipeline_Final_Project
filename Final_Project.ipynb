{
  "cells": [
    {
      "cell_type": "markdown",
      "metadata": {
        "id": "view-in-github",
        "colab_type": "text"
      },
      "source": [
        "<a href=\"https://colab.research.google.com/github/s4mto/ML_Apache_Pipeline_Final_Project/blob/main/Final_Project.ipynb\" target=\"_parent\"><img src=\"https://colab.research.google.com/assets/colab-badge.svg\" alt=\"Open In Colab\"/></a>"
      ]
    },
    {
      "cell_type": "markdown",
      "metadata": {
        "id": "JNigkdl2VuHr"
      },
      "source": [
        "<p style=\"text-align:center\">\n",
        "    <a href=\"https://skills.network/?utm_medium=Exinfluencer&utm_source=Exinfluencer&utm_content=000026UJ&utm_term=10006555&utm_id=NA-SkillsNetwork-Channel-SkillsNetworkCoursesIBMSkillsNetworkBD0231ENCoursera2789-2023-01-01\">\n",
        "    <img src=\"https://cf-courses-data.s3.us.cloud-object-storage.appdomain.cloud/assets/logos/SN_web_lightmode.png\" width=\"200\" alt=\"Skills Network Logo\"  />\n",
        "    </a>\n",
        "</p>\n"
      ]
    },
    {
      "cell_type": "markdown",
      "metadata": {
        "id": "Cw_IQe2aVuHt"
      },
      "source": [
        "## Final Project - Build an ML Pipeline for Airfoil noise prediction\n"
      ]
    },
    {
      "cell_type": "markdown",
      "metadata": {
        "id": "9N69VoJbVuHu"
      },
      "source": [
        "Estimated time needed: **90** minutes\n"
      ]
    },
    {
      "cell_type": "markdown",
      "source": [],
      "metadata": {
        "id": "uyGouW9rV6eS"
      }
    },
    {
      "cell_type": "markdown",
      "metadata": {
        "id": "GKVmskdhVuHu"
      },
      "source": [
        "## Scenario\n"
      ]
    },
    {
      "cell_type": "markdown",
      "metadata": {
        "id": "GQLy9YnFVuHu"
      },
      "source": [
        "You are a data engineer at an aeronautics consulting company. Your company prides itself in being able to efficiently design airfoils for use in planes and sports cars. Data scientists in your office need to work with different algorithms and data in different formats. While they are good at Machine Learning, they count on you to be able to do ETL jobs and build ML pipelines. In this project you will use the modified version of the NASA Airfoil Self Noise dataset. You will clean this dataset, by dropping the duplicate rows, and removing the rows with null values. You will create an ML pipe line to create a model that will predict the SoundLevel based on all the other columns. You will evaluate the model and towards the end you will persist the model.\n",
        "\n"
      ]
    },
    {
      "cell_type": "markdown",
      "metadata": {
        "id": "bCwn66S1VuHv"
      },
      "source": [
        "## Objectives\n",
        "\n",
        "In this 4 part assignment you will:\n",
        "\n",
        "- Part 1 Perform ETL activity\n",
        "  - Load a csv dataset\n",
        "  - Remove duplicates if any\n",
        "  - Drop rows with null values if any\n",
        "  - Make transformations\n",
        "  - Store the cleaned data in parquet format\n",
        "- Part 2 Create a  Machine Learning Pipeline\n",
        "  - Create a machine learning pipeline for prediction\n",
        "- Part 3 Evaluate the Model\n",
        "  - Evaluate the model using relevant metrics\n",
        "- Part 4 Persist the Model\n",
        "  - Save the model for future production use\n",
        "  - Load and verify the stored model\n"
      ]
    },
    {
      "cell_type": "markdown",
      "metadata": {
        "id": "UOSrijPmVuHv"
      },
      "source": [
        "## Datasets\n",
        "\n",
        "In this lab you will be using dataset(s):\n",
        "\n",
        " - The original dataset can be found here NASA airfoil self noise dataset. https://archive.ics.uci.edu/dataset/291/airfoil+self+noise\n",
        "\n",
        " - This dataset is licensed under a Creative Commons Attribution 4.0 International (CC BY 4.0) license.\n"
      ]
    },
    {
      "cell_type": "markdown",
      "metadata": {
        "id": "GLlea3jrVuHw"
      },
      "source": [
        "Diagram of an airfoil. - For informational purpose\n"
      ]
    },
    {
      "cell_type": "markdown",
      "metadata": {
        "id": "tsc7t8-iVuHx"
      },
      "source": [
        "![Airfoil with flow](https://cf-courses-data.s3.us.cloud-object-storage.appdomain.cloud/IBMSkillsNetwork-BD0231EN-Coursera/images/Airfoil_with_flow.png)\n"
      ]
    },
    {
      "cell_type": "markdown",
      "metadata": {
        "id": "EJ0ceYV1VuHx"
      },
      "source": [
        "Diagram showing the Angle of attack. - For informational purpose\n"
      ]
    },
    {
      "cell_type": "markdown",
      "metadata": {
        "id": "lzKLc3hFVuHx"
      },
      "source": [
        "![Airfoil angle of attack](https://cf-courses-data.s3.us.cloud-object-storage.appdomain.cloud/IBMSkillsNetwork-BD0231EN-Coursera/images/Airfoil_angle_of_attack.jpg)\n"
      ]
    },
    {
      "cell_type": "markdown",
      "metadata": {
        "id": "lLa59PNKVuHy"
      },
      "source": [
        "## Before you Start\n"
      ]
    },
    {
      "cell_type": "markdown",
      "metadata": {
        "id": "4Pw6syDVVuHy"
      },
      "source": [
        "Before you start attempting this project it is highly recommended that you finish the practice project.\n"
      ]
    },
    {
      "cell_type": "markdown",
      "metadata": {
        "id": "1_y9RMxrVuHy"
      },
      "source": [
        "## Setup\n"
      ]
    },
    {
      "cell_type": "markdown",
      "metadata": {
        "id": "r_oSIEHhVuHy"
      },
      "source": [
        "For this lab, we will be using the following libraries:\n",
        "\n",
        "*   [`PySpark`](https://spark.apache.org/docs/latest/api/python/index.html?utm_medium=Exinfluencer&utm_source=Exinfluencer&utm_content=000026UJ&utm_term=10006555&utm_id=NA-SkillsNetwork-Channel-SkillsNetworkCoursesIBMSkillsNetworkBD0231ENCoursera2789-2023-01-01) for connecting to the Spark Cluster\n"
      ]
    },
    {
      "cell_type": "markdown",
      "metadata": {
        "id": "Ih2grspOVuHy"
      },
      "source": [
        "### Installing Required Libraries\n",
        "\n",
        "Spark Cluster is pre-installed in the Skills Network Labs environment. However, you need libraries like pyspark and findspark to\n",
        " connect to this cluster.\n"
      ]
    },
    {
      "cell_type": "markdown",
      "metadata": {
        "id": "VV75RcLAVuHy"
      },
      "source": [
        "The following required libraries are __not__ pre-installed in the Skills Network Labs environment. __You will need to run the following cell__ to install them:\n"
      ]
    },
    {
      "cell_type": "code",
      "execution_count": null,
      "metadata": {
        "tags": [],
        "id": "3yGVwSIUVuHz"
      },
      "outputs": [],
      "source": [
        "!pip install pyspark==3.1.2 -q\n",
        "!pip install findspark -q"
      ]
    },
    {
      "cell_type": "markdown",
      "metadata": {
        "id": "YnNsdA3QVuHz"
      },
      "source": [
        "### Importing Required Libraries\n",
        "\n",
        "_We recommend you import all required libraries in one place (here):_\n"
      ]
    },
    {
      "cell_type": "code",
      "execution_count": null,
      "metadata": {
        "tags": [],
        "id": "Fvwq8j0SVuH0"
      },
      "outputs": [],
      "source": [
        "# You can also use this section to suppress warnings generated by your code:\n",
        "def warn(*args, **kwargs):\n",
        "    pass\n",
        "import warnings\n",
        "warnings.warn = warn\n",
        "warnings.filterwarnings('ignore')\n",
        "\n",
        "# FindSpark simplifies the process of using Apache Spark with Python\n",
        "\n",
        "import findspark\n",
        "findspark.init()"
      ]
    },
    {
      "cell_type": "markdown",
      "metadata": {
        "id": "SDDZPjm8VuH0"
      },
      "source": [
        "## Part 1 - Perform ETL activity\n"
      ]
    },
    {
      "cell_type": "markdown",
      "metadata": {
        "id": "kixd6DuVVuH0"
      },
      "source": [
        "### Task 1 - Import required libraries\n"
      ]
    },
    {
      "cell_type": "code",
      "execution_count": null,
      "metadata": {
        "tags": [],
        "id": "CFsm8-6PVuH0"
      },
      "outputs": [],
      "source": [
        "#your code goes here\n",
        "# You can also use this section to suppress warnings generated by your code:\n",
        "def warn(*args, **kwargs):\n",
        "    pass\n",
        "import warnings\n",
        "warnings.warn = warn\n",
        "warnings.filterwarnings('ignore')\n",
        "\n",
        "# FindSpark simplifies the process of using Apache Spark with Python\n",
        "\n",
        "import findspark\n",
        "findspark.init()\n",
        "\n",
        "#import functions/Classes for sparkml\n",
        "\n",
        "from pyspark.ml.regression import LinearRegression\n",
        "from pyspark.ml.classification import LogisticRegression\n",
        "\n",
        "from pyspark.ml.feature import VectorAssembler\n",
        "from pyspark.ml.feature import StandardScaler\n",
        "from pyspark.ml.feature import StringIndexer\n",
        "\n",
        "from pyspark.sql import SparkSession\n",
        "\n",
        "\n",
        "# import functions/Classes for pipeline creation\n",
        "\n",
        "from pyspark.ml import Pipeline\n",
        "\n",
        "# import functions/Classes for metrics\n",
        "from pyspark.ml.evaluation import RegressionEvaluator\n",
        "from pyspark.ml.evaluation import MulticlassClassificationEvaluator\n"
      ]
    },
    {
      "cell_type": "markdown",
      "metadata": {
        "id": "wyavnZ_5VuH0"
      },
      "source": [
        "### Task 2 - Create a spark session\n"
      ]
    },
    {
      "cell_type": "code",
      "execution_count": null,
      "metadata": {
        "tags": [],
        "id": "w_W6oRtZVuH0",
        "outputId": "7c2a206e-929c-459f-dc78-ef63e19d6ca0"
      },
      "outputs": [
        {
          "name": "stderr",
          "output_type": "stream",
          "text": [
            "23/09/13 12:46:59 WARN util.NativeCodeLoader: Unable to load native-hadoop library for your platform... using builtin-java classes where applicable\n",
            "Setting default log level to \"WARN\".\n",
            "To adjust logging level use sc.setLogLevel(newLevel). For SparkR, use setLogLevel(newLevel).\n"
          ]
        }
      ],
      "source": [
        "#Create a SparkSession\n",
        "\n",
        "spark = SparkSession.builder.appName(\"Airfoil Noise Prediction\").getOrCreate()"
      ]
    },
    {
      "cell_type": "markdown",
      "metadata": {
        "id": "AoBSZd5TVuH1"
      },
      "source": [
        "### Task 3 - Load the csv file into a dataframe\n"
      ]
    },
    {
      "cell_type": "markdown",
      "metadata": {
        "id": "l7vb_lfwVuH1"
      },
      "source": [
        "Download the data file.\n",
        "\n",
        "NOTE : Please ensure you use the dataset below and not the original dataset mentioned above.\n"
      ]
    },
    {
      "cell_type": "code",
      "execution_count": null,
      "metadata": {
        "tags": [],
        "id": "c3sidYXgVuH1",
        "outputId": "f4b39505-e3b3-45fe-90ff-da42b22086ff"
      },
      "outputs": [
        {
          "name": "stdout",
          "output_type": "stream",
          "text": [
            "--2023-09-13 12:47:22--  https://cf-courses-data.s3.us.cloud-object-storage.appdomain.cloud/IBMSkillsNetwork-BD0231EN-Coursera/datasets/NASA_airfoil_noise_raw.csv\n",
            "Resolving cf-courses-data.s3.us.cloud-object-storage.appdomain.cloud (cf-courses-data.s3.us.cloud-object-storage.appdomain.cloud)... 169.63.118.104\n",
            "Connecting to cf-courses-data.s3.us.cloud-object-storage.appdomain.cloud (cf-courses-data.s3.us.cloud-object-storage.appdomain.cloud)|169.63.118.104|:443... connected.\n",
            "HTTP request sent, awaiting response... 200 OK\n",
            "Length: 60682 (59K) [text/csv]\n",
            "Saving to: ‘NASA_airfoil_noise_raw.csv’\n",
            "\n",
            "NASA_airfoil_noise_ 100%[===================>]  59.26K  --.-KB/s    in 0.001s  \n",
            "\n",
            "2023-09-13 12:47:22 (40.0 MB/s) - ‘NASA_airfoil_noise_raw.csv’ saved [60682/60682]\n",
            "\n"
          ]
        }
      ],
      "source": [
        "!wget https://cf-courses-data.s3.us.cloud-object-storage.appdomain.cloud/IBMSkillsNetwork-BD0231EN-Coursera/datasets/NASA_airfoil_noise_raw.csv\n"
      ]
    },
    {
      "cell_type": "markdown",
      "metadata": {
        "id": "QpozkrmYVuH2"
      },
      "source": [
        "Load the dataset into the spark dataframe\n"
      ]
    },
    {
      "cell_type": "code",
      "execution_count": null,
      "metadata": {
        "tags": [],
        "id": "Wpq-zp-BVuH2"
      },
      "outputs": [],
      "source": [
        "# Load the dataset that you have downloaded in the previous task\n",
        "\n",
        "df = spark.read.csv(\"NASA_airfoil_noise_raw.csv\", header=True, inferSchema=True)\n"
      ]
    },
    {
      "cell_type": "markdown",
      "metadata": {
        "id": "wM0Fjpu-VuH2"
      },
      "source": [
        "### Task 4 - Print top 5 rows of the dataset\n"
      ]
    },
    {
      "cell_type": "code",
      "execution_count": null,
      "metadata": {
        "tags": [],
        "id": "RJXppr-AVuH2",
        "outputId": "c2db3fd8-b0c3-41d0-f6f1-40f5cbf570e1"
      },
      "outputs": [
        {
          "name": "stdout",
          "output_type": "stream",
          "text": [
            "+---------+-------------+-----------+------------------+-----------------------+----------+\n",
            "|Frequency|AngleOfAttack|ChordLength|FreeStreamVelocity|SuctionSideDisplacement|SoundLevel|\n",
            "+---------+-------------+-----------+------------------+-----------------------+----------+\n",
            "|      800|          0.0|     0.3048|              71.3|             0.00266337|   126.201|\n",
            "|     1000|          0.0|     0.3048|              71.3|             0.00266337|   125.201|\n",
            "|     1250|          0.0|     0.3048|              71.3|             0.00266337|   125.951|\n",
            "|     1600|          0.0|     0.3048|              71.3|             0.00266337|   127.591|\n",
            "|     2000|          0.0|     0.3048|              71.3|             0.00266337|   127.461|\n",
            "+---------+-------------+-----------+------------------+-----------------------+----------+\n",
            "only showing top 5 rows\n",
            "\n"
          ]
        }
      ],
      "source": [
        "#your code goes here\n",
        "df.show(5)"
      ]
    },
    {
      "cell_type": "markdown",
      "metadata": {
        "id": "CFoBOrcDVuH2"
      },
      "source": [
        "### Task 6 - Print the total number of rows in the dataset\n"
      ]
    },
    {
      "cell_type": "code",
      "execution_count": null,
      "metadata": {
        "tags": [],
        "id": "x_okOHWrVuH3",
        "outputId": "319826ad-40d2-48ad-dbea-6dfc2639db59"
      },
      "outputs": [
        {
          "name": "stdout",
          "output_type": "stream",
          "text": [
            "1522\n"
          ]
        }
      ],
      "source": [
        "#your code goes here\n",
        "rowcount1 = df.count()\n",
        "print(rowcount1)"
      ]
    },
    {
      "cell_type": "markdown",
      "metadata": {
        "id": "HaBEMhRGVuH3"
      },
      "source": [
        "### Task 7 - Drop all the duplicate rows from the dataset\n"
      ]
    },
    {
      "cell_type": "code",
      "execution_count": null,
      "metadata": {
        "tags": [],
        "id": "vZq5ocA7VuH3"
      },
      "outputs": [],
      "source": [
        "df = df.dropDuplicates()"
      ]
    },
    {
      "cell_type": "markdown",
      "metadata": {
        "id": "K4pE6CvtVuH3"
      },
      "source": [
        "### Task 8 - Print the total number of rows in the dataset\n"
      ]
    },
    {
      "cell_type": "code",
      "execution_count": null,
      "metadata": {
        "tags": [],
        "id": "2PxdTyqhVuH3",
        "outputId": "46ab97c0-c063-4f52-f0d8-412463abaf90"
      },
      "outputs": [
        {
          "name": "stderr",
          "output_type": "stream",
          "text": [
            "[Stage 17:===================================================>  (190 + 8) / 200]"
          ]
        },
        {
          "name": "stdout",
          "output_type": "stream",
          "text": [
            "1503\n"
          ]
        },
        {
          "name": "stderr",
          "output_type": "stream",
          "text": [
            "                                                                                \r"
          ]
        }
      ],
      "source": [
        "#your code goes here\n",
        "\n",
        "rowcount2 = df.count()\n",
        "print(rowcount2)\n"
      ]
    },
    {
      "cell_type": "markdown",
      "metadata": {
        "id": "vOawVq6BVuH4"
      },
      "source": [
        "### Task 9 - Drop all the rows that contain null values from the dataset\n"
      ]
    },
    {
      "cell_type": "code",
      "execution_count": null,
      "metadata": {
        "tags": [],
        "id": "_iSu5_qTVuH4"
      },
      "outputs": [],
      "source": [
        "df=df.dropna()"
      ]
    },
    {
      "cell_type": "markdown",
      "metadata": {
        "id": "PS3Uedv8VuH5"
      },
      "source": [
        "### Task 10 - Print the total number of rows in the dataset\n"
      ]
    },
    {
      "cell_type": "code",
      "execution_count": null,
      "metadata": {
        "tags": [],
        "id": "-M1v6hA_VuH5",
        "outputId": "4bb60c48-7d7f-4840-a961-a8bb8728d265"
      },
      "outputs": [
        {
          "name": "stderr",
          "output_type": "stream",
          "text": [
            "[Stage 20:=====================================================>(199 + 1) / 200]"
          ]
        },
        {
          "name": "stdout",
          "output_type": "stream",
          "text": [
            "1499\n"
          ]
        },
        {
          "name": "stderr",
          "output_type": "stream",
          "text": [
            "                                                                                \r"
          ]
        }
      ],
      "source": [
        "#your code goes here\n",
        "\n",
        "rowcount3 = df.count()\n",
        "print(rowcount3)\n"
      ]
    },
    {
      "cell_type": "markdown",
      "metadata": {
        "tags": [],
        "id": "MZZdaSxTVuH5"
      },
      "source": [
        "### Task 11 - Rename the column \"SoundLevel\" to \"SoundLevelDecibels\"Drop\n"
      ]
    },
    {
      "cell_type": "code",
      "execution_count": null,
      "metadata": {
        "tags": [],
        "id": "03ljFgflVuH5",
        "outputId": "14f289a9-4bdd-4309-9433-08a84d38a510"
      },
      "outputs": [
        {
          "name": "stdout",
          "output_type": "stream",
          "text": [
            "root\n",
            " |-- Frequency: integer (nullable = true)\n",
            " |-- AngleOfAttack: double (nullable = true)\n",
            " |-- ChordLength: double (nullable = true)\n",
            " |-- FreeStreamVelocity: double (nullable = true)\n",
            " |-- SuctionSideDisplacement: double (nullable = true)\n",
            " |-- SoundLevelDecibels: double (nullable = true)\n",
            "\n"
          ]
        }
      ],
      "source": [
        "# your code goes here\n",
        "\n",
        "df.printSchema()\n"
      ]
    },
    {
      "cell_type": "code",
      "execution_count": null,
      "metadata": {
        "tags": [],
        "id": "Nj1etZO5VuH5",
        "outputId": "c81b0d1b-dad1-4e84-ff4c-1f80d72cf91a"
      },
      "outputs": [
        {
          "name": "stdout",
          "output_type": "stream",
          "text": [
            "+---------+-------------+-----------+------------------+-----------------------+------------------+\n",
            "|Frequency|AngleOfAttack|ChordLength|FreeStreamVelocity|SuctionSideDisplacement|SoundLevelDecibels|\n",
            "+---------+-------------+-----------+------------------+-----------------------+------------------+\n",
            "|     4000|          3.0|     0.3048|              31.7|             0.00529514|           115.608|\n",
            "|     3150|          2.0|     0.2286|              31.7|             0.00372371|           121.527|\n",
            "|     2000|          7.3|     0.2286|              31.7|              0.0132672|           115.309|\n",
            "|     2000|          5.4|     0.1524|              71.3|             0.00401199|           131.111|\n",
            "|      500|          9.9|     0.1524|              71.3|              0.0193001|           131.279|\n",
            "|     1000|         12.6|     0.1524|              71.3|              0.0483159|           122.044|\n",
            "|    12500|          0.0|     0.0254|              39.6|             4.28464E-4|           129.116|\n",
            "|     1600|          4.8|     0.0254|              39.6|             9.07475E-4|           125.966|\n",
            "|     2000|         15.6|     0.1016|              71.3|              0.0437259|           119.888|\n",
            "|     6300|          0.0|     0.2286|              31.7|              0.0027238|           116.815|\n",
            "|     6300|          2.7|     0.1524|              39.6|             0.00294804|           119.209|\n",
            "|      630|          5.4|     0.1524|              31.7|             0.00525474|           131.471|\n",
            "|      800|         17.4|     0.0254|              31.7|              0.0176631|           139.226|\n",
            "|     2000|          0.0|     0.1016|              31.7|             0.00150092|           133.153|\n",
            "|      200|         15.6|     0.1016|              39.6|              0.0528487|           123.514|\n",
            "|     1000|          0.0|     0.3048|              71.3|             0.00266337|           125.201|\n",
            "|     1250|          0.0|     0.3048|              71.3|             0.00266337|           125.951|\n",
            "|      800|          2.7|     0.1524|              39.6|             0.00294804|           128.829|\n",
            "|     3150|          9.5|     0.0254|              39.6|             0.00449821|           129.934|\n",
            "|     6300|         12.7|     0.0254|              71.3|              0.0121808|           125.398|\n",
            "+---------+-------------+-----------+------------------+-----------------------+------------------+\n",
            "only showing top 20 rows\n",
            "\n"
          ]
        }
      ],
      "source": [
        "# your code goes here\n",
        "\n",
        "df = df.withColumnRenamed(\"SoundLevel\",\"SoundLevelDecibels\")\n",
        "df.show()\n"
      ]
    },
    {
      "cell_type": "markdown",
      "metadata": {
        "id": "0FdDS-dWVuH6"
      },
      "source": [
        "### Task 12 - Save the dataframe in parquet formant, name the file as \"NASA_airfoil_noise_cleaned.parquet\"\n"
      ]
    },
    {
      "cell_type": "code",
      "execution_count": null,
      "metadata": {
        "tags": [],
        "id": "sGyAFDfzVuH6",
        "outputId": "5bfb50b1-8d17-4ccc-bf8e-449792fbf20c"
      },
      "outputs": [
        {
          "name": "stderr",
          "output_type": "stream",
          "text": [
            "                                                                                \r"
          ]
        }
      ],
      "source": [
        "# your code goes here\n",
        "df = df.repartition(1)\n",
        "df.write.mode(\"overwrite\").parquet(\"NASA_airfoil_noise_cleaned.parquet\")"
      ]
    },
    {
      "cell_type": "code",
      "execution_count": null,
      "metadata": {
        "tags": [],
        "id": "2Ey5Y34IVuH6",
        "outputId": "6d4e5255-c86e-4434-bcda-c6191984146b"
      },
      "outputs": [
        {
          "name": "stdout",
          "output_type": "stream",
          "text": [
            "total 15\n",
            "-rw-r--r-- 1 jupyterlab resources     0 Sep 13 12:51 _SUCCESS\n",
            "-rw-r--r-- 1 jupyterlab resources 14754 Sep 13 12:51 part-00000-48623428-560b-4223-804d-ab9b2e1eb83d-c000.snappy.parquet\n"
          ]
        }
      ],
      "source": [
        "# your code goes here\n",
        "!ls -l NASA_airfoil_noise_cleaned.parquet"
      ]
    },
    {
      "cell_type": "markdown",
      "metadata": {
        "id": "bXnGChBAVuH6"
      },
      "source": [
        "#### Part 1 - Evaluation\n"
      ]
    },
    {
      "cell_type": "markdown",
      "metadata": {
        "id": "20WX7yJTVuH6"
      },
      "source": [
        "\n",
        "Run the code cell below.<br>\n",
        "Use the answers here to answer the final evaluation quiz in the next section.<br>\n",
        "If the code throws up any errors, go back and review the code you have written.\n"
      ]
    },
    {
      "cell_type": "code",
      "execution_count": null,
      "metadata": {
        "tags": [],
        "id": "ccdz8LHLVuH6",
        "outputId": "57c36b71-2462-40c9-b570-6269486a245f"
      },
      "outputs": [
        {
          "name": "stdout",
          "output_type": "stream",
          "text": [
            "Part 1 - Evaluation\n",
            "Total rows =  1522\n",
            "Total rows after dropping duplicate rows =  1503\n",
            "Total rows after dropping duplicate rows and rows with null values =  1499\n",
            "New column name =  SoundLevelDecibels\n",
            "NASA_airfoil_noise_cleaned.parquet exists : True\n"
          ]
        }
      ],
      "source": [
        "print(\"Part 1 - Evaluation\")\n",
        "\n",
        "print(\"Total rows = \", rowcount1)\n",
        "print(\"Total rows after dropping duplicate rows = \", rowcount2)\n",
        "print(\"Total rows after dropping duplicate rows and rows with null values = \", rowcount3)\n",
        "print(\"New column name = \", df.columns[-1])\n",
        "\n",
        "import os\n",
        "\n",
        "print(\"NASA_airfoil_noise_cleaned.parquet exists :\", os.path.isdir(\"NASA_airfoil_noise_cleaned.parquet\"))"
      ]
    },
    {
      "cell_type": "markdown",
      "metadata": {
        "id": "ZlOcoPDTVuH7"
      },
      "source": [
        "## Part - 2 Create a  Machine Learning Pipeline\n"
      ]
    },
    {
      "cell_type": "markdown",
      "metadata": {
        "id": "P-p8Po-ZVuH7"
      },
      "source": [
        "### Task 1 - Load data from \"NASA_airfoil_noise_cleaned.parquet\" into a dataframe\n"
      ]
    },
    {
      "cell_type": "code",
      "execution_count": null,
      "metadata": {
        "tags": [],
        "id": "9aAScHeFVuH7"
      },
      "outputs": [],
      "source": [
        "#your code goes here\n",
        "\n",
        "df =  spark.read.parquet(\"NASA_airfoil_noise_cleaned.parquet\")\n"
      ]
    },
    {
      "cell_type": "markdown",
      "metadata": {
        "id": "uwSquuVJVuH7"
      },
      "source": [
        "### Task 2 - Print the total number of rows in the dataset\n"
      ]
    },
    {
      "cell_type": "code",
      "execution_count": null,
      "metadata": {
        "tags": [],
        "id": "TeZF0OtVVuH7",
        "outputId": "da4f9e37-dbe2-4581-ec3a-5460764a9e40"
      },
      "outputs": [
        {
          "name": "stdout",
          "output_type": "stream",
          "text": [
            "1499\n"
          ]
        }
      ],
      "source": [
        "#your code goes here\n",
        "\n",
        "rowcount4 = df.count()\n",
        "print(rowcount4)\n",
        "\n"
      ]
    },
    {
      "cell_type": "markdown",
      "metadata": {
        "id": "PjRg4yqhVuH8"
      },
      "source": [
        "### Task 3 - Define the VectorAssembler pipeline stage\n"
      ]
    },
    {
      "cell_type": "markdown",
      "metadata": {
        "id": "ixz-moG4VuH8"
      },
      "source": [
        "Stage 1 - Assemble the input columns into a single column \"features\". Use all the columns except SoundLevelDecibels as input features.\n"
      ]
    },
    {
      "cell_type": "code",
      "execution_count": null,
      "metadata": {
        "tags": [],
        "id": "ndNfsdgoVuH8"
      },
      "outputs": [],
      "source": [
        "#your code goes here\n",
        "\n",
        "assembler = VectorAssembler(inputCols=[\"Frequency\", \"AngleOfAttack\", \"ChordLength\", \"FreeStreamVelocity\", \"SuctionSideDisplacement\"], outputCol=\"features\")\n",
        "\n"
      ]
    },
    {
      "cell_type": "markdown",
      "metadata": {
        "id": "7BtXX3oCVuH8"
      },
      "source": [
        "### Task 4 - Define the StandardScaler pipeline stage\n"
      ]
    },
    {
      "cell_type": "markdown",
      "metadata": {
        "id": "UuvIUFpdVuH8"
      },
      "source": [
        "Stage 2 - Scale the \"features\" using standard scaler and store in \"scaledFeatures\" column\n"
      ]
    },
    {
      "cell_type": "code",
      "execution_count": null,
      "metadata": {
        "tags": [],
        "id": "8est5iKvVuH8"
      },
      "outputs": [],
      "source": [
        "#your code goes here\n",
        "\n",
        "scaler = StandardScaler(inputCol=\"features\", outputCol=\"scaledFeatures\")\n"
      ]
    },
    {
      "cell_type": "markdown",
      "metadata": {
        "id": "7r0Uqxt2VuH9"
      },
      "source": [
        "### Task 5 - Define the StandardScaler pipeline stage\n"
      ]
    },
    {
      "cell_type": "markdown",
      "metadata": {
        "id": "Xq_xo9LJVuH9"
      },
      "source": [
        "Stage 3 - Create a LinearRegression stage to predict \"SoundLevelDecibels\"\n"
      ]
    },
    {
      "cell_type": "code",
      "execution_count": null,
      "metadata": {
        "tags": [],
        "id": "BOS0IKvpVuH9"
      },
      "outputs": [],
      "source": [
        "#your code goes here\n",
        "\n",
        "lr = LinearRegression(featuresCol=\"scaledFeatures\", labelCol=\"SoundLevelDecibels\")"
      ]
    },
    {
      "cell_type": "markdown",
      "metadata": {
        "id": "dfedxEt0VuH9"
      },
      "source": [
        "### Task 6 - Build the pipeline\n"
      ]
    },
    {
      "cell_type": "markdown",
      "metadata": {
        "id": "aXuOKTBAVuH9"
      },
      "source": [
        "Build a pipeline using the above three stages\n"
      ]
    },
    {
      "cell_type": "code",
      "execution_count": null,
      "metadata": {
        "tags": [],
        "id": "NHW5oAgBVuH-"
      },
      "outputs": [],
      "source": [
        "#your code goes here\n",
        "\n",
        "# Build the pipeline\n",
        "# All the stages of the pipeline are mentioned in the order of execution.\n",
        "pipeline = Pipeline(stages=[assembler, scaler, lr])\n"
      ]
    },
    {
      "cell_type": "markdown",
      "metadata": {
        "id": "i5qN4Q5xVuH-"
      },
      "source": [
        "### Task 7 - Split the data\n"
      ]
    },
    {
      "cell_type": "code",
      "execution_count": null,
      "metadata": {
        "tags": [],
        "id": "4hgnsdowVuH-"
      },
      "outputs": [],
      "source": [
        "# Split the data into training and testing sets with 70:30 split.\n",
        "# set the value of seed to 42\n",
        "# the above step is very important. DO NOT set the value of seed to any other value other than 42.\n",
        "\n",
        "#your code goes here\n",
        "\n",
        "(trainingData, testingData) = df.randomSplit([0.7, 0.3], seed=42)\n"
      ]
    },
    {
      "cell_type": "markdown",
      "metadata": {
        "id": "ET2AQ4NWVuH_"
      },
      "source": [
        "### Task 8 - Fit the pipeline\n"
      ]
    },
    {
      "cell_type": "code",
      "execution_count": null,
      "metadata": {
        "tags": [],
        "id": "onuE-d2bVuH_",
        "outputId": "dcf08816-641d-4c88-cb60-d349cc4a94c9"
      },
      "outputs": [
        {
          "name": "stderr",
          "output_type": "stream",
          "text": [
            "23/09/13 12:51:57 WARN util.Instrumentation: [fd9332d8] regParam is zero, which might cause numerical instability and overfitting.\n",
            "23/09/13 12:51:57 WARN netlib.BLAS: Failed to load implementation from: com.github.fommil.netlib.NativeSystemBLAS\n",
            "23/09/13 12:51:57 WARN netlib.BLAS: Failed to load implementation from: com.github.fommil.netlib.NativeRefBLAS\n",
            "23/09/13 12:51:57 WARN netlib.LAPACK: Failed to load implementation from: com.github.fommil.netlib.NativeSystemLAPACK\n",
            "23/09/13 12:51:57 WARN netlib.LAPACK: Failed to load implementation from: com.github.fommil.netlib.NativeRefLAPACK\n"
          ]
        }
      ],
      "source": [
        "# Fit the pipeline using the training data\n",
        "# your code goes here\n",
        "\n",
        "pipelineModel = pipeline.fit(trainingData)\n"
      ]
    },
    {
      "cell_type": "markdown",
      "metadata": {
        "id": "6ZC8GaopVuH_"
      },
      "source": [
        "#### Part 2 - Evaluation\n"
      ]
    },
    {
      "cell_type": "markdown",
      "metadata": {
        "id": "Tvp_0jCDVuIA"
      },
      "source": [
        "\n",
        "Run the code cell below.<br>\n",
        "Use the answers here to answer the final evaluation quiz in the next section.<br>\n",
        "If the code throws up any errors, go back and review the code you have written.\n"
      ]
    },
    {
      "cell_type": "code",
      "execution_count": null,
      "metadata": {
        "tags": [],
        "id": "iJK9hT0EVuIA",
        "outputId": "eb0d6568-1b33-46ed-a8d2-c42aabe11b1c"
      },
      "outputs": [
        {
          "name": "stdout",
          "output_type": "stream",
          "text": [
            "Part 2 - Evaluation\n",
            "Total rows =  1499\n",
            "Pipeline Stage 1 =  VectorAssembler\n",
            "Pipeline Stage 2 =  StandardScaler\n",
            "Pipeline Stage 3 =  LinearRegression\n",
            "Label column =  SoundLevelDecibels\n"
          ]
        }
      ],
      "source": [
        "print(\"Part 2 - Evaluation\")\n",
        "print(\"Total rows = \", rowcount4)\n",
        "ps = [str(x).split(\"_\")[0] for x in pipeline.getStages()]\n",
        "\n",
        "print(\"Pipeline Stage 1 = \", ps[0])\n",
        "print(\"Pipeline Stage 2 = \", ps[1])\n",
        "print(\"Pipeline Stage 3 = \", ps[2])\n",
        "\n",
        "print(\"Label column = \", lr.getLabelCol())"
      ]
    },
    {
      "cell_type": "markdown",
      "metadata": {
        "id": "GbewJjL1VuIA"
      },
      "source": [
        "## Part 3 - Evaluate the Model\n"
      ]
    },
    {
      "cell_type": "markdown",
      "metadata": {
        "id": "FqiuxlFtVuIA"
      },
      "source": [
        "### Task 1 - Predict using the model\n"
      ]
    },
    {
      "cell_type": "code",
      "execution_count": null,
      "metadata": {
        "tags": [],
        "id": "pupU367yVuIB"
      },
      "outputs": [],
      "source": [
        "# Make predictions on testing data\n",
        "# your code goes here\n",
        "\n",
        "predictions = pipelineModel.transform(testingData)\n"
      ]
    },
    {
      "cell_type": "markdown",
      "metadata": {
        "id": "a95ceHy5VuIB"
      },
      "source": [
        "### Task 2 - Print the MSE\n"
      ]
    },
    {
      "cell_type": "code",
      "execution_count": null,
      "metadata": {
        "tags": [],
        "id": "et5w0lxHVuIB",
        "outputId": "2f6e1e2e-2464-4eda-e262-5b68b56d41c5"
      },
      "outputs": [
        {
          "name": "stdout",
          "output_type": "stream",
          "text": [
            "MSE = 21.69767261083989\n"
          ]
        }
      ],
      "source": [
        "#your code goes here\n",
        "\n",
        "evaluator = RegressionEvaluator(labelCol=\"SoundLevelDecibels\", predictionCol=\"prediction\", metricName=\"mse\")\n",
        "mse = evaluator.evaluate(predictions)\n",
        "print(\"MSE =\", mse)\n"
      ]
    },
    {
      "cell_type": "markdown",
      "metadata": {
        "id": "8oJ_4qgfVuIB"
      },
      "source": [
        "### Task 3 - Print the MAE\n"
      ]
    },
    {
      "cell_type": "code",
      "execution_count": null,
      "metadata": {
        "tags": [],
        "id": "H62zGcmKVuIC",
        "outputId": "30142f00-ff36-46b4-8a46-7bcc7d193af2"
      },
      "outputs": [
        {
          "name": "stdout",
          "output_type": "stream",
          "text": [
            "MAE = 3.674707483470427\n"
          ]
        }
      ],
      "source": [
        "#your code goes here\n",
        "\n",
        "evaluator = RegressionEvaluator(labelCol=\"SoundLevelDecibels\", predictionCol=\"prediction\", metricName=\"mae\")\n",
        "mae = evaluator.evaluate(predictions)\n",
        "print(\"MAE =\", mae)\n"
      ]
    },
    {
      "cell_type": "markdown",
      "metadata": {
        "id": "7tbqPOrfVuIC"
      },
      "source": [
        "### Task 4 - Print the R-Squared(R2)\n"
      ]
    },
    {
      "cell_type": "code",
      "execution_count": null,
      "metadata": {
        "tags": [],
        "id": "O3FkZ_pkVuIC",
        "outputId": "c65d19b3-d36b-4e12-96df-0cb12355a3a1"
      },
      "outputs": [
        {
          "name": "stdout",
          "output_type": "stream",
          "text": [
            "R Squared = 0.5382661885816811\n"
          ]
        }
      ],
      "source": [
        "#your code goes here\n",
        "\n",
        "evaluator = RegressionEvaluator(labelCol=\"SoundLevelDecibels\", predictionCol=\"prediction\", metricName=\"r2\")\n",
        "r2 = evaluator.evaluate(predictions)\n",
        "print(\"R Squared =\", r2)\n"
      ]
    },
    {
      "cell_type": "markdown",
      "metadata": {
        "id": "V0B4zu-wVuID"
      },
      "source": [
        "#### Part 3 - Evaluation\n"
      ]
    },
    {
      "cell_type": "markdown",
      "metadata": {
        "id": "IXOutMjgVuID"
      },
      "source": [
        "\n",
        "Run the code cell below.<br>\n",
        "Use the answers here to answer the final evaluation quiz in the next section.<br>\n",
        "If the code throws up any errors, go back and review the code you have written.\n"
      ]
    },
    {
      "cell_type": "code",
      "execution_count": null,
      "metadata": {
        "tags": [],
        "id": "Ah3xQUvpVuID",
        "outputId": "92a3ca01-78e7-48a0-9499-79a118bfe1ca"
      },
      "outputs": [
        {
          "name": "stdout",
          "output_type": "stream",
          "text": [
            "Part 3 - Evaluation\n",
            "Mean Squared Error =  21.7\n",
            "Mean Absolute Error =  3.67\n",
            "R Squared =  0.54\n",
            "Intercept =  132.23\n"
          ]
        }
      ],
      "source": [
        "print(\"Part 3 - Evaluation\")\n",
        "\n",
        "print(\"Mean Squared Error = \", round(mse,2))\n",
        "print(\"Mean Absolute Error = \", round(mae,2))\n",
        "print(\"R Squared = \", round(r2,2))\n",
        "\n",
        "lrModel = pipelineModel.stages[-1]\n",
        "\n",
        "print(\"Intercept = \", round(lrModel.intercept,2))\n"
      ]
    },
    {
      "cell_type": "markdown",
      "metadata": {
        "id": "PxgPcrTTVuID"
      },
      "source": [
        "## Part 4 - Persist the Model\n"
      ]
    },
    {
      "cell_type": "markdown",
      "metadata": {
        "id": "Z3Z1_LXiVuIE"
      },
      "source": [
        "### Task 1 - Save the model to the path \"Final_Project\"\n"
      ]
    },
    {
      "cell_type": "code",
      "execution_count": null,
      "metadata": {
        "tags": [],
        "id": "gWb0eVThVuIE"
      },
      "outputs": [],
      "source": [
        "# Save the pipeline model as \"Final_Project\"\n",
        "!mkdir model_storage"
      ]
    },
    {
      "cell_type": "code",
      "execution_count": null,
      "metadata": {
        "tags": [],
        "id": "MDEg41vcVuIE",
        "outputId": "d69e03f5-d476-4071-9c4e-8156690dbd96"
      },
      "outputs": [
        {
          "name": "stderr",
          "output_type": "stream",
          "text": [
            "                                                                                \r"
          ]
        }
      ],
      "source": [
        "# Save the pipeline model as \"Final_Project\"\n",
        "pipelineModel.write().overwrite().save(\"./Final_Project/\")\n",
        "\n",
        "#The overwrite method is used to overwrite the model if it already exists,\n",
        "#and the save method is used to specify the path where the model should be saved.\n"
      ]
    },
    {
      "cell_type": "markdown",
      "metadata": {
        "id": "TyPKCS4RVuIF"
      },
      "source": [
        "### Task 2 - Load the model from the path \"Final_Project\"\n"
      ]
    },
    {
      "cell_type": "code",
      "execution_count": null,
      "metadata": {
        "tags": [],
        "id": "lxy1pnEQVuIF"
      },
      "outputs": [],
      "source": [
        "# Load the pipeline model you have created in the previous step\n",
        "\n",
        "loadedPipelineModel = pipelineModel.load(\"./Final_Project/\")"
      ]
    },
    {
      "cell_type": "markdown",
      "metadata": {
        "id": "WQn85B4ZVuIF"
      },
      "source": [
        "### Task 3 - Make predictions using the loaded model on the testdata\n"
      ]
    },
    {
      "cell_type": "code",
      "execution_count": null,
      "metadata": {
        "tags": [],
        "id": "xtZPwA04VuIF"
      },
      "outputs": [],
      "source": [
        "# Use the loaded pipeline model and make predictions using testingData\n",
        "\n",
        "predictions = loadedPipelineModel.transform(testingData)"
      ]
    },
    {
      "cell_type": "markdown",
      "metadata": {
        "id": "Kp4V4N8NVuIG"
      },
      "source": [
        "### Task 4 - Show the predictions\n"
      ]
    },
    {
      "cell_type": "code",
      "execution_count": null,
      "metadata": {
        "tags": [],
        "id": "VRdQNPpdVuIG",
        "outputId": "55e83240-dd36-4b2f-e5c1-ae065295449c"
      },
      "outputs": [
        {
          "name": "stdout",
          "output_type": "stream",
          "text": [
            "+------------------+\n",
            "|        prediction|\n",
            "+------------------+\n",
            "| 125.1422875397131|\n",
            "|122.70503286089041|\n",
            "|123.66788978786391|\n",
            "|127.56113462661494|\n",
            "|120.83603611988016|\n",
            "+------------------+\n",
            "only showing top 5 rows\n",
            "\n"
          ]
        }
      ],
      "source": [
        "#show top 5 rows from the predections dataframe. Display only the label column and predictions\n",
        "#your code goes here\n",
        "predictions.select(\"prediction\").show(5)"
      ]
    },
    {
      "cell_type": "markdown",
      "metadata": {
        "id": "Dree0HpnVuIG"
      },
      "source": [
        "#### Part 4 - Evaluation\n"
      ]
    },
    {
      "cell_type": "markdown",
      "metadata": {
        "id": "43-5vGCVVuIG"
      },
      "source": [
        "\n",
        "Run the code cell below.<br>\n",
        "Use the answers here to answer the final evaluation quiz in the next section.<br>\n",
        "If the code throws up any errors, go back and review the code you have written.\n"
      ]
    },
    {
      "cell_type": "code",
      "execution_count": null,
      "metadata": {
        "tags": [],
        "id": "xHucQZZJVuIG",
        "outputId": "618b05eb-c857-424d-e1c7-51385bf44d42"
      },
      "outputs": [
        {
          "name": "stdout",
          "output_type": "stream",
          "text": [
            "Part 4 - Evaluation\n",
            "Number of stages in the pipeline =  3\n",
            "Coefficient for Frequency is -4.0307\n",
            "Coefficient for AngleOfAttack is -2.1385\n",
            "Coefficient for ChordLength is -3.1762\n",
            "Coefficient for FreeStreamVelocity is 1.6308\n",
            "Coefficient for SuctionSideDisplacement is -2.0552\n"
          ]
        }
      ],
      "source": [
        "print(\"Part 4 - Evaluation\")\n",
        "\n",
        "loadedmodel = loadedPipelineModel.stages[-1]\n",
        "totalstages = len(loadedPipelineModel.stages)\n",
        "inputcolumns = loadedPipelineModel.stages[0].getInputCols()\n",
        "\n",
        "print(\"Number of stages in the pipeline = \", totalstages)\n",
        "for i,j in zip(inputcolumns, loadedmodel.coefficients):\n",
        "    print(f\"Coefficient for {i} is {round(j,4)}\")"
      ]
    },
    {
      "cell_type": "markdown",
      "metadata": {
        "id": "0FdJKshGVuIH"
      },
      "source": [
        "### Stop Spark Session\n"
      ]
    },
    {
      "cell_type": "code",
      "execution_count": null,
      "metadata": {
        "tags": [],
        "id": "rCtFH-m0VuIH"
      },
      "outputs": [],
      "source": [
        "spark.stop()"
      ]
    },
    {
      "cell_type": "markdown",
      "metadata": {
        "id": "_nKoCxrWVuIH"
      },
      "source": [
        "## Authors\n"
      ]
    },
    {
      "cell_type": "markdown",
      "metadata": {
        "id": "j1OTpd1VVuII"
      },
      "source": [
        "[Ramesh Sannareddy](https://www.linkedin.com/in/rsannareddy/?utm_medium=Exinfluencer&utm_source=Exinfluencer&utm_content=000026UJ&utm_term=10006555&utm_id=NA-SkillsNetwork-Channel-SkillsNetworkCoursesIBMBD0231ENSkillsNetwork866-2023-01-01)\n"
      ]
    },
    {
      "cell_type": "markdown",
      "metadata": {
        "id": "OgDBDUpiVuII"
      },
      "source": [
        "### Other Contributors\n"
      ]
    },
    {
      "cell_type": "markdown",
      "metadata": {
        "id": "S46PVY5DVuII"
      },
      "source": [
        "## Change Log\n"
      ]
    },
    {
      "cell_type": "markdown",
      "metadata": {
        "id": "2eDXAhh4VuII"
      },
      "source": [
        "|Date (YYYY-MM-DD)|Version|Changed By|Change Description|\n",
        "|-|-|-|-|\n",
        "|2023-05-26|0.1|Ramesh Sannareddy|Initial Version Created|\n"
      ]
    },
    {
      "cell_type": "markdown",
      "metadata": {
        "id": "lWooXiffVuII"
      },
      "source": [
        "Copyright © 2023 IBM Corporation. All rights reserved.\n"
      ]
    }
  ],
  "metadata": {
    "kernelspec": {
      "display_name": "Python",
      "language": "python",
      "name": "conda-env-python-py"
    },
    "language_info": {
      "codemirror_mode": {
        "name": "ipython",
        "version": 3
      },
      "file_extension": ".py",
      "mimetype": "text/x-python",
      "name": "python",
      "nbconvert_exporter": "python",
      "pygments_lexer": "ipython3",
      "version": "3.7.12"
    },
    "colab": {
      "provenance": [],
      "include_colab_link": true
    }
  },
  "nbformat": 4,
  "nbformat_minor": 0
}